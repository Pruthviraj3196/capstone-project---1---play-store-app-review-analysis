{
  "nbformat": 4,
  "nbformat_minor": 0,
  "metadata": {
    "colab": {
      "private_outputs": true,
      "provenance": [],
      "collapsed_sections": [
        "w6K7xa23Elo4",
        "dauF4eBmngu3",
        "gCX9965dhzqZ",
        "gIfDvo9L0UH2"
      ],
      "include_colab_link": true
    },
    "kernelspec": {
      "name": "python3",
      "display_name": "Python 3"
    },
    "language_info": {
      "name": "python"
    }
  },
  "cells": [
    {
      "cell_type": "markdown",
      "metadata": {
        "id": "view-in-github",
        "colab_type": "text"
      },
      "source": [
        "<a href=\"https://colab.research.google.com/github/Pruthviraj3196/capstone-project---1---play-store-app-review-analysis/blob/main/Copy_of_Sample_EDA_Submission_Template.ipynb\" target=\"_parent\"><img src=\"https://colab.research.google.com/assets/colab-badge.svg\" alt=\"Open In Colab\"/></a>"
      ]
    },
    {
      "cell_type": "markdown",
      "source": [
        "# **Project Name**    - Play Store App review Analysis\n",
        "\n"
      ],
      "metadata": {
        "id": "vncDsAP0Gaoa"
      }
    },
    {
      "cell_type": "markdown",
      "source": [
        "##### **Project Type**    - EDA\n",
        "##### **Contribution**    - Individual\n",
        "##### **Name -Pruthviraj Gopinath Barbole**\n",
        "\n"
      ],
      "metadata": {
        "id": "beRrZCGUAJYm"
      }
    },
    {
      "cell_type": "markdown",
      "source": [
        "# **Project Summary -**"
      ],
      "metadata": {
        "id": "FJNUwmbgGyua"
      }
    },
    {
      "cell_type": "markdown",
      "source": [
        "Play Store is a digital distribution platform for Android applications, games, music, and books. The platform is a part of the Google Play ecosystem, which provides a seamless user experience for all Google services. It is an official app store for Android devices and is a crucial component of the Android operating system.\n",
        "\n",
        "Exploratory Data Analysis (EDA) on the Google Play Store dataset can be used to gain insights into the various trends and patterns in the Android app market. EDA helps in uncovering interesting relationships and patterns between different variables. In this analysis, we will explore the distribution of various characteristics of the apps in the Google Play Store.\n",
        "\n",
        "First, we can examine the App ratings.Ratings are a reflection of the user experience and provide a sense of the app's quality. The data shows that the majority of apps in the Google Play Store have ratings between 4 and 5 stars, which is generally considered good. However, a significant proportion of apps have ratings below 4 stars, which suggests that users are encountering issues with these apps.\n",
        "\n",
        "Genres are another important factor that can be analyzed.The most popular Genres are Tools, Entertainment,Education,Action &Productivity.. These Genres account for almost 60% of all the apps in the store. The rest of the Genres include Finance,Lifestyle, Personalization, etc.\n",
        "\n",
        "Next, we can look at the number of installs for each app in the Google Play Store. The number of installs is a crucial metric for app developers as it reflects the app's popularity and success. The data shows that the majority of apps in the Google Play Store have fewer than 100,000 installs, with a few exceptions that have more than 100 million installs. This indicates that the market is highly competitive and challenging for developers to achieve significant success.\n",
        "\n",
        "Another important characteristic to examine is the app size. The size of the app is an important factor in determining the user experience, as larger apps take longer to download and may consume more storage space. The data shows that the majority of apps in the Google Play Store are under 50 MB, which is reasonable for most Android devices. However, there are some apps that are over 100 MB, which may cause issues for users with limited storage space.\n",
        "\n",
        "Finally, we can examine the pricing of apps in the Google Play Store. The majority of apps in the store are free, with a small proportion of paid apps. Paid apps tend to have more features and functionalities than free apps, which may explain why users are willing to pay for them.\n",
        "\n",
        "In conclusion, Exploratory Data Analysis (EDA) on the Google Play Store dataset provides valuable insights into the trends and patterns in the Android app market. The analysis shows that games are the most popular category of apps, with the majority of apps having fewer than 100,000 installs. The majority of apps are under 50 MB in size, have ratings between 4 and 5 stars, and are free. This analysis will provide useful information for app developers, who can use it to make informed decisions about the market and their app strategies."
      ],
      "metadata": {
        "id": "F6v_1wHtG2nS"
      }
    },
    {
      "cell_type": "markdown",
      "source": [
        "# **GitHub Link -**"
      ],
      "metadata": {
        "id": "w6K7xa23Elo4"
      }
    },
    {
      "cell_type": "markdown",
      "source": [
        "Provide your GitHub Link here."
      ],
      "metadata": {
        "id": "h1o69JH3Eqqn"
      }
    },
    {
      "cell_type": "markdown",
      "source": [
        "# **Problem Statement**\n"
      ],
      "metadata": {
        "id": "yQaldy8SH6Dl"
      }
    },
    {
      "cell_type": "markdown",
      "source": [
        "## <b> The Play Store apps data has enormous potential to drive app-making businesses to success. Actionable insights can be drawn for developers to work on and capture the Android market. </b>\n",
        "\n",
        "## <b> Each app (row) has values for catergory, rating, size, and more. Another dataset contains customer reviews of the android apps.</b>\n",
        "\n",
        "## <b> Explore and analyze the data to discover key factors responsible for app engagement and success. </b>"
      ],
      "metadata": {
        "id": "DpeJGUA3kjGy"
      }
    },
    {
      "cell_type": "markdown",
      "source": [
        "#### **Define Your Business Objective?**"
      ],
      "metadata": {
        "id": "PH-0ReGfmX4f"
      }
    },
    {
      "cell_type": "markdown",
      "source": [
        "The Business Objective of this project is:\n",
        "\n",
        "* Using the data to analyze consumer trends and determine which type of apps are the most popular and profitable.\n",
        "\n",
        "* Classifying applications based on their categories.\n",
        "\n",
        "* Comparing different categories of applications based on the categoris.\n",
        "\n",
        "* Comparing the rates in different kinds of applications.\n",
        "\n",
        "* Finding data needed for app development\n",
        "\n"
      ],
      "metadata": {
        "id": "aaBoIOcN2eXm"
      }
    },
    {
      "cell_type": "markdown",
      "source": [
        "# **General Guidelines** : -  "
      ],
      "metadata": {
        "id": "mDgbUHAGgjLW"
      }
    },
    {
      "cell_type": "markdown",
      "source": [
        "1.   Well-structured, formatted, and commented code is required. \n",
        "2.   Exception Handling, Production Grade Code & Deployment Ready Code will be a plus. Those students will be awarded some additional credits. \n",
        "     \n",
        "     The additional credits will have advantages over other students during Star Student selection.\n",
        "       \n",
        "             [ Note: - Deployment Ready Code is defined as, the whole .ipynb notebook should be executable in one go\n",
        "                       without a single error logged. ]\n",
        "\n",
        "3.   Each and every logic should have proper comments.\n",
        "4. You may add as many number of charts you want. Make Sure for each and every chart the following format should be answered.\n",
        "        \n",
        "\n",
        "```\n",
        "# Chart visualization code\n",
        "```\n",
        "            \n",
        "\n",
        "*   Why did you pick the specific chart?\n",
        "*   What is/are the insight(s) found from the chart?\n",
        "* Will the gained insights help creating a positive business impact? \n",
        "Are there any insights that lead to negative growth? Justify with specific reason.\n",
        "\n",
        "5. You have to create at least 20 logical & meaningful charts having important insights.\n",
        "\n",
        "\n",
        "[ Hints : - Do the Vizualization in  a structured way while following \"UBM\" Rule. \n",
        "\n",
        "U - Univariate Analysis,\n",
        "\n",
        "B - Bivariate Analysis (Numerical - Categorical, Numerical - Numerical, Categorical - Categorical)\n",
        "\n",
        "M - Multivariate Analysis\n",
        " ]\n",
        "\n",
        "\n",
        "\n"
      ],
      "metadata": {
        "id": "ZrxVaUj-hHfC"
      }
    },
    {
      "cell_type": "markdown",
      "source": [
        "# ***Let's Begin !***"
      ],
      "metadata": {
        "id": "O_i_v8NEhb9l"
      }
    },
    {
      "cell_type": "markdown",
      "source": [
        "## ***1. Know Your Data***"
      ],
      "metadata": {
        "id": "HhfV-JJviCcP"
      }
    },
    {
      "cell_type": "markdown",
      "source": [
        "### Import Libraries"
      ],
      "metadata": {
        "id": "Y3lxredqlCYt"
      }
    },
    {
      "cell_type": "code",
      "source": [
        "# Import Libraries\n"
      ],
      "metadata": {
        "id": "M8Vqi-pPk-HR"
      },
      "execution_count": null,
      "outputs": []
    },
    {
      "cell_type": "code",
      "execution_count": null,
      "metadata": {
        "id": "zays0vqa8F2Z"
      },
      "outputs": [],
      "source": [
        "import numpy as np \n",
        "import pandas as pd \n",
        "import matplotlib.pyplot as plt \n",
        "import seaborn as sns\n",
        "%matplotlib inline "
      ]
    },
    {
      "cell_type": "markdown",
      "source": [
        "### Dataset Loading"
      ],
      "metadata": {
        "id": "3RnN4peoiCZX"
      }
    },
    {
      "cell_type": "code",
      "source": [
        "# Load Dataset\n"
      ],
      "metadata": {
        "id": "4CkvbW_SlZ_R"
      },
      "execution_count": null,
      "outputs": []
    },
    {
      "cell_type": "code",
      "execution_count": null,
      "metadata": {
        "id": "Od-a1eip8F1d"
      },
      "outputs": [],
      "source": [
        "from google.colab import drive\n",
        "drive.mount('/content/drive')"
      ]
    },
    {
      "cell_type": "code",
      "execution_count": null,
      "metadata": {
        "id": "ApQghBwk8Fw9"
      },
      "outputs": [],
      "source": [
        "df_playstore = pd.read_csv('/content/drive/MyDrive/data/Play Store Data (1).csv')\n",
        "df_users = pd.read_csv('/content/drive/MyDrive/data/User Reviews (1).csv')"
      ]
    },
    {
      "cell_type": "markdown",
      "source": [
        "### Dataset First View"
      ],
      "metadata": {
        "id": "x71ZqKXriCWQ"
      }
    },
    {
      "cell_type": "code",
      "source": [
        "# Dataset First Look\n",
        "df_playstore.head()"
      ],
      "metadata": {
        "id": "LWNFOSvLl09H"
      },
      "execution_count": null,
      "outputs": []
    },
    {
      "cell_type": "code",
      "source": [
        "df_users.head()"
      ],
      "metadata": {
        "id": "b_TiBKDG90Xy"
      },
      "execution_count": null,
      "outputs": []
    },
    {
      "cell_type": "markdown",
      "source": [
        "### Dataset Rows & Columns count"
      ],
      "metadata": {
        "id": "7hBIi_osiCS2"
      }
    },
    {
      "cell_type": "code",
      "source": [
        "# Dataset Rows & Columns count\n",
        "df_playstore.shape"
      ],
      "metadata": {
        "id": "Kllu7SJgmLij"
      },
      "execution_count": null,
      "outputs": []
    },
    {
      "cell_type": "code",
      "source": [
        "df_users.shape"
      ],
      "metadata": {
        "id": "c5YA2moO-Dni"
      },
      "execution_count": null,
      "outputs": []
    },
    {
      "cell_type": "markdown",
      "source": [
        "### Dataset Information"
      ],
      "metadata": {
        "id": "JlHwYmJAmNHm"
      }
    },
    {
      "cell_type": "code",
      "source": [
        "# Dataset Info\n",
        "df_playstore.info()"
      ],
      "metadata": {
        "id": "e9hRXRi6meOf"
      },
      "execution_count": null,
      "outputs": []
    },
    {
      "cell_type": "code",
      "source": [
        "df_users.info()"
      ],
      "metadata": {
        "id": "OYc-XecA-Pdo"
      },
      "execution_count": null,
      "outputs": []
    },
    {
      "cell_type": "markdown",
      "source": [
        "#### Missing Values/Null Values"
      ],
      "metadata": {
        "id": "PoPl-ycgm1ru"
      }
    },
    {
      "cell_type": "code",
      "source": [
        "# Missing Values/Null Values Count\n",
        "df_playstore.isnull().sum()"
      ],
      "metadata": {
        "id": "GgHWkxvamxVg"
      },
      "execution_count": null,
      "outputs": []
    },
    {
      "cell_type": "code",
      "source": [
        "df_users.isnull().sum()"
      ],
      "metadata": {
        "id": "RyfNTUXG-axg"
      },
      "execution_count": null,
      "outputs": []
    },
    {
      "cell_type": "markdown",
      "source": [
        "## ***2. Understanding Your Variables***"
      ],
      "metadata": {
        "id": "nA9Y7ga8ng1Z"
      }
    },
    {
      "cell_type": "code",
      "source": [
        "# Dataset Columns\n",
        "df_playstore.columns"
      ],
      "metadata": {
        "id": "j7xfkqrt5Ag5"
      },
      "execution_count": null,
      "outputs": []
    },
    {
      "cell_type": "code",
      "source": [
        "df_users.columns"
      ],
      "metadata": {
        "id": "FDbcMPaF-puQ"
      },
      "execution_count": null,
      "outputs": []
    },
    {
      "cell_type": "code",
      "source": [
        "# Dataset Describe\n",
        "df_playstore.describe()"
      ],
      "metadata": {
        "id": "DnOaZdaE5Q5t"
      },
      "execution_count": null,
      "outputs": []
    },
    {
      "cell_type": "code",
      "source": [
        "df_users.describe()"
      ],
      "metadata": {
        "id": "J_hFMrNE-26I"
      },
      "execution_count": null,
      "outputs": []
    },
    {
      "cell_type": "markdown",
      "source": [
        "### What did you know about your dataset?"
      ],
      "metadata": {
        "id": "H0kj-8xxnORC"
      }
    },
    {
      "cell_type": "markdown",
      "source": [
        "* The above dataset has 10841 rows and 13 columns\n",
        "* we have 5 columns in which null values are present, which need to be entered with proper values (mean meadian mode)\n",
        "* Values of column 'Size' are strings representing size in 'M' as Megabytes, 'k' as kilobytes and also 'Varies with devices'.\n",
        "* Values of column 'Installs' are strings representing install amount with symbols such as ',' and '+'.\n",
        "* Values of column 'Price' are strings representing price with symbol '$'.\n",
        "* Hence, we will need to do some data cleaning."
      ],
      "metadata": {
        "id": "gfoNAAC-nUe_"
      }
    },
    {
      "cell_type": "markdown",
      "source": [
        "### Variables Description "
      ],
      "metadata": {
        "id": "PBTbrJXOngz2"
      }
    },
    {
      "cell_type": "markdown",
      "source": [
        "**Play store Data** \n",
        "\n",
        "* App : The name of the app in the Play Store\n",
        "\n",
        "* Category : The category of the app in the Play Store\n",
        "\n",
        "* Rating : The rating of the app in the Play Store\n",
        "\n",
        "* Reviews : The number of reviews of the app\n",
        "\n",
        "* Size : The size of the app\n",
        "\n",
        "* Install :The number of installs of the app\n",
        "\n",
        "* Type : The type of the app (Free/Paid)\n",
        "\n",
        "The price of the app (0 if it is Free)\n",
        "\n",
        "* Content Rating :The appropiate target audience of the app\n",
        "\n",
        "* Genres: The genre of the app\n",
        "\n",
        "* Last Updated : The date when the app was last updated\n",
        "\n",
        "* Current Ver : The current version of the app\n",
        "\n",
        "* Android Ver : The minimum Android version required to run the app\n",
        "\n",
        "**User Data**\n",
        "* App: The name of the app\n",
        "\n",
        "* Translated Reviews: The review text in English\n",
        "\n",
        "* Sentiment: Sentiment basically determines the attitude or the emotion of the writer, i.e., whether it is positive or negative or neutral.\n",
        "\n",
        "* Sentiment Polarity: Sentiment Polarity is float which lies in the range of (-1,1) where 1 means positive statement and -1 means a negative statement.\n",
        "\n",
        "* Sentiment Subjectivity: Sentiment Subjectivity generally refer to personal opinion, emotion or judgment, which lies in the range of (0,1)"
      ],
      "metadata": {
        "id": "aJV4KIxSnxay"
      }
    },
    {
      "cell_type": "markdown",
      "source": [
        "## 3. ***Data Wrangling***"
      ],
      "metadata": {
        "id": "dauF4eBmngu3"
      }
    },
    {
      "cell_type": "markdown",
      "metadata": {
        "id": "wi_ll6NI-O_h"
      },
      "source": [
        "# Data cleaning (removing null values and outliers)"
      ]
    },
    {
      "cell_type": "markdown",
      "source": [
        "### Data Wrangling Code"
      ],
      "metadata": {
        "id": "bKJF3rekwFvQ"
      }
    },
    {
      "cell_type": "code",
      "source": [
        "# Write your code to make your dataset analysis ready."
      ],
      "metadata": {
        "id": "wk-9a2fpoLcV"
      },
      "execution_count": null,
      "outputs": []
    },
    {
      "cell_type": "code",
      "execution_count": null,
      "metadata": {
        "id": "eb1LKq1n8Fd_"
      },
      "outputs": [],
      "source": [
        "df_playstore.info()"
      ]
    },
    {
      "cell_type": "markdown",
      "source": [
        "### This tells us that we have all the columns of the object expect the rating column \n",
        "### from info we come to know that we have total 10841 values in the column\n"
      ],
      "metadata": {
        "id": "HrODNfTx_Tsw"
      }
    },
    {
      "cell_type": "code",
      "source": [
        "df_playstore.isnull().sum()"
      ],
      "metadata": {
        "id": "TRfycfbR_YCg"
      },
      "execution_count": null,
      "outputs": []
    },
    {
      "cell_type": "markdown",
      "source": [
        "we have 5 columns in which null values are present, which need to be entered with proper values (mean meadian mode)"
      ],
      "metadata": {
        "id": "IXuFFu8A_kY6"
      }
    },
    {
      "cell_type": "code",
      "source": [
        "df_playstore.boxplot();"
      ],
      "metadata": {
        "id": "kzC4Crff_X9B"
      },
      "execution_count": null,
      "outputs": []
    },
    {
      "cell_type": "markdown",
      "source": [
        "from this boxplot we know that we have outliers in the rating column"
      ],
      "metadata": {
        "id": "akqTJ9nTANR4"
      }
    },
    {
      "cell_type": "markdown",
      "source": [
        "## Removing outliers from rating column"
      ],
      "metadata": {
        "id": "1_hhNXiNASBQ"
      }
    },
    {
      "cell_type": "code",
      "source": [
        "df_playstore[df_playstore.Rating>5]"
      ],
      "metadata": {
        "id": "KrpNpXPC_X6Q"
      },
      "execution_count": null,
      "outputs": []
    },
    {
      "cell_type": "code",
      "source": [
        "df_playstore.drop([10472],inplace=True)"
      ],
      "metadata": {
        "id": "CGbZYhqm_X2Q"
      },
      "execution_count": null,
      "outputs": []
    },
    {
      "cell_type": "code",
      "execution_count": null,
      "metadata": {
        "id": "ZCEJDERxBzXC"
      },
      "outputs": [],
      "source": [
        "df_playstore[10470:10475]"
      ]
    },
    {
      "cell_type": "code",
      "execution_count": null,
      "metadata": {
        "id": "QRLZpYzvErnN"
      },
      "outputs": [],
      "source": [
        "df_playstore.boxplot();"
      ]
    },
    {
      "cell_type": "markdown",
      "source": [
        "# Removing 90% null values "
      ],
      "metadata": {
        "id": "zfnUJzL6Ahhb"
      }
    },
    {
      "cell_type": "code",
      "execution_count": null,
      "metadata": {
        "id": "wU9huahAIiUF"
      },
      "outputs": [],
      "source": [
        "threshold  = len(df_playstore)*0.1\n",
        "print(threshold)"
      ]
    },
    {
      "cell_type": "code",
      "execution_count": null,
      "metadata": {
        "id": "86nJ3bMbI-Qr"
      },
      "outputs": [],
      "source": [
        "df_playstore.dropna(thresh = threshold, axis= 1, inplace= True)"
      ]
    },
    {
      "cell_type": "code",
      "execution_count": null,
      "metadata": {
        "id": "1vTP_11CJdEN"
      },
      "outputs": [],
      "source": [
        "df_playstore.isnull().sum()"
      ]
    },
    {
      "cell_type": "markdown",
      "source": [
        "# filling null values "
      ],
      "metadata": {
        "id": "oCsExy5eAsm7"
      }
    },
    {
      "cell_type": "code",
      "execution_count": null,
      "metadata": {
        "id": "Cafe_fzS8FTz"
      },
      "outputs": [],
      "source": [
        "df_playstore['Rating'].isnull().sum()"
      ]
    },
    {
      "cell_type": "code",
      "execution_count": null,
      "metadata": {
        "id": "m0YmUwlhGbf6"
      },
      "outputs": [],
      "source": [
        "df_playstore.describe()"
      ]
    },
    {
      "cell_type": "code",
      "execution_count": null,
      "metadata": {
        "id": "5TziMUuE8FSy"
      },
      "outputs": [],
      "source": [
        "df_playstore.shape"
      ]
    },
    {
      "cell_type": "markdown",
      "metadata": {
        "id": "CdKkQeiG8A1H"
      },
      "source": [
        "filling a null values\n",
        "if the columns contains an int or float, then fill values with mean or median \n",
        "if the columns contains an object (categorical values) then fill with mode"
      ]
    },
    {
      "cell_type": "code",
      "source": [
        "df_playstore['Rating'] = df_playstore['Rating'].fillna(df_playstore['Rating'].median())"
      ],
      "metadata": {
        "id": "X90e67NT_Xog"
      },
      "execution_count": null,
      "outputs": []
    },
    {
      "cell_type": "code",
      "source": [
        "df_playstore.isnull().sum()"
      ],
      "metadata": {
        "id": "1Cy31ZpS_XmA"
      },
      "execution_count": null,
      "outputs": []
    },
    {
      "cell_type": "code",
      "source": [
        "df_playstore.describe()"
      ],
      "metadata": {
        "id": "tOJdbH3n_Xjg"
      },
      "execution_count": null,
      "outputs": []
    },
    {
      "cell_type": "code",
      "source": [
        "df_playstore['Type'] = df_playstore['Type'].fillna(df_playstore['Type'].mode()[0])"
      ],
      "metadata": {
        "id": "0u8Y9zi__Xg4"
      },
      "execution_count": null,
      "outputs": []
    },
    {
      "cell_type": "code",
      "source": [
        "df_playstore['Current Ver'] = df_playstore['Current Ver'].fillna(df_playstore['Current Ver'].mode()[0])"
      ],
      "metadata": {
        "id": "16xolRpk_Xbw"
      },
      "execution_count": null,
      "outputs": []
    },
    {
      "cell_type": "code",
      "source": [
        "df_playstore['Android Ver'] = df_playstore['Android Ver'].fillna(df_playstore['Android Ver'].mode()[0])"
      ],
      "metadata": {
        "id": "NQusqf_2_XZI"
      },
      "execution_count": null,
      "outputs": []
    },
    {
      "cell_type": "code",
      "source": [
        "df_playstore.isnull().sum()"
      ],
      "metadata": {
        "id": "TpihxpqtBWiY"
      },
      "execution_count": null,
      "outputs": []
    },
    {
      "cell_type": "code",
      "source": [
        "df_playstore['Price'] = df_playstore['Price'].apply((lambda x: str(x).replace('$', '') if'$' in str (x) else str(x)))\n",
        "df_playstore['Price'] = df_playstore['Price'].apply(lambda x : float(x))\n",
        "df_playstore['Reviews'] = pd.to_numeric(df_playstore['Reviews'],errors = 'coerce')"
      ],
      "metadata": {
        "id": "q_tk9ZEzBWgJ"
      },
      "execution_count": null,
      "outputs": []
    },
    {
      "cell_type": "code",
      "source": [
        "df_playstore['Installs'] = df_playstore['Installs'].apply((lambda x: str(x).replace('+', '') if '+' in str (x) else str(x)))\n",
        "df_playstore['Installs'] = df_playstore['Installs'].apply((lambda x: str(x).replace(',', '') if ',' in str (x) else str(x)))\n",
        "df_playstore['Installs'] = df_playstore['Installs'].apply(lambda x : float(x))"
      ],
      "metadata": {
        "id": "RVKBdNpBBWdc"
      },
      "execution_count": null,
      "outputs": []
    },
    {
      "cell_type": "code",
      "source": [
        "df_playstore['Size'].unique()"
      ],
      "metadata": {
        "id": "QJG6Oy1KBWbF"
      },
      "execution_count": null,
      "outputs": []
    },
    {
      "cell_type": "markdown",
      "source": [
        "Data type of Size is object. I had to convert the column because it contains the application sizes. Firstly I changed 'Varies with device' value with Nan. After, I dropped 'M' and 'k'. I changed from '1000+' to 1000. Finally, I converted float value"
      ],
      "metadata": {
        "id": "SgnVN39YBn5A"
      }
    },
    {
      "cell_type": "code",
      "source": [
        "df_playstore['Size'] = df_playstore.Size.replace(\"Varies with device\",np.nan)\n",
        "df_playstore['Size'] = df_playstore.Size.str.replace(\"M\",\"000\") # All size values became the kilobyte type.\n",
        "df_playstore['Size'] = df_playstore.Size.str.replace(\"k\",\"\")\n",
        "df_playstore['Size'] = df_playstore.Size.replace(\"1,000+\",1000)\n",
        "df_playstore['Size'] =df_playstore['Size'].astype(float)\n",
        "df_playstore['Size'].dtype"
      ],
      "metadata": {
        "id": "s3eGOkNqBWYZ"
      },
      "execution_count": null,
      "outputs": []
    },
    {
      "cell_type": "markdown",
      "source": [
        "## Dropping duplicates from 'App' column"
      ],
      "metadata": {
        "id": "Br9Z3hi1BtTP"
      }
    },
    {
      "cell_type": "code",
      "source": [
        "df_playstore = df_playstore.drop_duplicates(subset = 'App')"
      ],
      "metadata": {
        "id": "84dtG6YdBWWQ"
      },
      "execution_count": null,
      "outputs": []
    },
    {
      "cell_type": "code",
      "source": [
        "df_playstore.describe()"
      ],
      "metadata": {
        "id": "b4WVrR5lBWTw"
      },
      "execution_count": null,
      "outputs": []
    },
    {
      "cell_type": "code",
      "source": [
        "df_playstore.info()"
      ],
      "metadata": {
        "id": "zGM3Av1yBWRQ"
      },
      "execution_count": null,
      "outputs": []
    },
    {
      "cell_type": "code",
      "source": [
        "df_playstore.head()"
      ],
      "metadata": {
        "id": "YLJIYkaeBWOo"
      },
      "execution_count": null,
      "outputs": []
    },
    {
      "cell_type": "markdown",
      "source": [
        "# for users rating data Set"
      ],
      "metadata": {
        "id": "AGz_XaofFl73"
      }
    },
    {
      "cell_type": "code",
      "source": [
        "df_users.head()"
      ],
      "metadata": {
        "id": "Ztun_eL6Bu4H"
      },
      "execution_count": null,
      "outputs": []
    },
    {
      "cell_type": "code",
      "source": [
        "df_users.info()"
      ],
      "metadata": {
        "id": "AxQ8o44IBu1v"
      },
      "execution_count": null,
      "outputs": []
    },
    {
      "cell_type": "code",
      "source": [
        "df_users.describe()"
      ],
      "metadata": {
        "id": "ESiTbLX_BuzP"
      },
      "execution_count": null,
      "outputs": []
    },
    {
      "cell_type": "code",
      "source": [
        "df_users.isnull().sum()"
      ],
      "metadata": {
        "id": "et1PzjmwBuwX"
      },
      "execution_count": null,
      "outputs": []
    },
    {
      "cell_type": "code",
      "source": [
        "percent_missing_user = df_users.isnull().sum()*100/len(df_users)\n",
        "missing_value_df_user = pd.DataFrame({'coloumn_name':df_users.columns,\n",
        "                                      'percent_missing': percent_missing_user})"
      ],
      "metadata": {
        "id": "IQlnfuxxBut6"
      },
      "execution_count": null,
      "outputs": []
    },
    {
      "cell_type": "code",
      "source": [
        "missing_value_df_user"
      ],
      "metadata": {
        "id": "5GCpmMrSBurR"
      },
      "execution_count": null,
      "outputs": []
    },
    {
      "cell_type": "code",
      "source": [
        "df_users = df_users.dropna()"
      ],
      "metadata": {
        "id": "MBHklLHZZAJZ"
      },
      "execution_count": null,
      "outputs": []
    },
    {
      "cell_type": "code",
      "source": [
        "merged_df = pd.merge(df_playstore,df_users , on='App',how = 'inner')"
      ],
      "metadata": {
        "id": "NiziaDKfZAGy"
      },
      "execution_count": null,
      "outputs": []
    },
    {
      "cell_type": "code",
      "source": [
        "percent_missing_merged = merged_df.isnull().sum()*100/ len(merged_df)\n",
        "missing_value_df_merged = pd.DataFrame({'column_name':merged_df.columns,\n",
        "                                        'percent_missing':percent_missing_merged})"
      ],
      "metadata": {
        "id": "9YHJv6tjZAEL"
      },
      "execution_count": null,
      "outputs": []
    },
    {
      "cell_type": "code",
      "source": [
        "missing_value_df_merged"
      ],
      "metadata": {
        "id": "NufBxcrmZABi"
      },
      "execution_count": null,
      "outputs": []
    },
    {
      "cell_type": "code",
      "source": [
        "merged_df.head()"
      ],
      "metadata": {
        "id": "Y_x90ffaZeDr"
      },
      "execution_count": null,
      "outputs": []
    },
    {
      "cell_type": "code",
      "source": [
        "merged_df.describe()"
      ],
      "metadata": {
        "id": "hlOSfLdKZd6D"
      },
      "execution_count": null,
      "outputs": []
    },
    {
      "cell_type": "markdown",
      "source": [
        "### What all manipulations have you done and insights you found?"
      ],
      "metadata": {
        "id": "MSa1f5Uengrz"
      }
    },
    {
      "cell_type": "markdown",
      "source": [
        "I performed several data manipulations on the dataset, including:\n",
        "\n",
        "- Removed any duplicate rows\n",
        "\n",
        "* Removed Un necessasry Columns\n",
        "\n",
        "* Converting 'Reviews' column to numeric data types\n",
        "\n",
        "* Converting 'Size' column to numeric data types.\n",
        "\n",
        "* Converting 'Price' column to numeric data types\n",
        "\n",
        "* Converting 'Installs' column to numeric data types\n",
        "\n",
        "* Removed rows with null values\n",
        "\n",
        "* Drop rows with missing values \n",
        "\n",
        "* At last i merged the two data into one (playstore & users data ) \n"
      ],
      "metadata": {
        "id": "LbyXE7I1olp8"
      }
    },
    {
      "cell_type": "markdown",
      "source": [
        "## ***4. Data Vizualization, Storytelling & Experimenting with charts : Understand the relationships between variables***"
      ],
      "metadata": {
        "id": "GF8Ens_Soomf"
      }
    },
    {
      "cell_type": "markdown",
      "source": [
        "#### Chart - 1"
      ],
      "metadata": {
        "id": "0wOQAZs5pc--"
      }
    },
    {
      "cell_type": "markdown",
      "source": [
        "**1-Get the numbers of apps for each category**"
      ],
      "metadata": {
        "id": "9Nu2VTyFZwWt"
      }
    },
    {
      "cell_type": "code",
      "source": [
        "sns.set_style('darkgrid')\n",
        "plt.figure(figsize=(10, 5))\n",
        "sns.countplot(x='Category', data=merged_df)\n",
        "plt.title('Number of Apps Per Category')\n",
        "plt.xticks(rotation=90)\n",
        "plt.ylabel('Number of Apps')\n",
        "plt.show()"
      ],
      "metadata": {
        "id": "7v_ESjsspbW7"
      },
      "execution_count": null,
      "outputs": []
    },
    {
      "cell_type": "code",
      "source": [
        "# Getting the top 5 apps with category wise app count.\n",
        "merged_df.groupby(['Category'])['App'].count().sort_values(ascending=False).head().reset_index()"
      ],
      "metadata": {
        "id": "fyIt_75K-H-a"
      },
      "execution_count": null,
      "outputs": []
    },
    {
      "cell_type": "markdown",
      "source": [
        "##### 1. Why did you pick the specific chart?"
      ],
      "metadata": {
        "id": "K5QZ13OEpz2H"
      }
    },
    {
      "cell_type": "markdown",
      "source": [
        "Because the graphical representation gives us an easy idea of which category has the highest number of apps among all the app categories "
      ],
      "metadata": {
        "id": "XESiWehPqBRc"
      }
    },
    {
      "cell_type": "markdown",
      "source": [
        "##### 2. What is/are the insight(s) found from the chart?"
      ],
      "metadata": {
        "id": "lQ7QKXXCp7Bj"
      }
    },
    {
      "cell_type": "markdown",
      "source": [
        " from the above graph we come to know that the gaming caterogry has highest numbers of apps on playstore "
      ],
      "metadata": {
        "id": "C_j1G7yiqdRP"
      }
    },
    {
      "cell_type": "markdown",
      "source": [
        "##### 3. Will the gained insights help creating a positive business impact? \n",
        "Are there any insights that lead to negative growth? Justify with specific reason."
      ],
      "metadata": {
        "id": "448CDAPjqfQr"
      }
    },
    {
      "cell_type": "markdown",
      "source": [
        "Game category has highest number of apps and Maps and nevigation categories has lowest.Actually user are mostly focused and interest Game categories this case on making a Game Category App top app in this playstore APP dataset"
      ],
      "metadata": {
        "id": "3cspy4FjqxJW"
      }
    },
    {
      "cell_type": "markdown",
      "source": [
        "#### Chart - 2"
      ],
      "metadata": {
        "id": "KSlN3yHqYklG"
      }
    },
    {
      "cell_type": "markdown",
      "source": [
        "**2-Most ratting in all category**"
      ],
      "metadata": {
        "id": "lYU77WBNZ_fK"
      }
    },
    {
      "cell_type": "code",
      "source": [
        "# Chart - 2 visualization code"
      ],
      "metadata": {
        "id": "R4YgtaqtYklH"
      },
      "execution_count": null,
      "outputs": []
    },
    {
      "cell_type": "code",
      "source": [
        "plt.figure(figsize=(10, 5))\n",
        "sns.countplot(x='Rating', data=merged_df)\n",
        "plt.title('Rating Distribution')\n",
        "plt.xticks(rotation=90)\n",
        "plt.ylabel('Number of Apps')\n",
        "plt.show()"
      ],
      "metadata": {
        "id": "HGUDdi81Z79i"
      },
      "execution_count": null,
      "outputs": []
    },
    {
      "cell_type": "markdown",
      "source": [
        "##### 1. Why did you pick the specific chart?"
      ],
      "metadata": {
        "id": "t6dVpIINYklI"
      }
    },
    {
      "cell_type": "markdown",
      "source": [
        "Because the graphical representation gives us an easy idea of which rating has the highest Rating among all the app categories"
      ],
      "metadata": {
        "id": "5aaW0BYyYklI"
      }
    },
    {
      "cell_type": "markdown",
      "source": [
        "##### 2. What is/are the insight(s) found from the chart?"
      ],
      "metadata": {
        "id": "ijmpgYnKYklI"
      }
    },
    {
      "cell_type": "markdown",
      "source": [
        "We found that 4.4 has highest among all rating "
      ],
      "metadata": {
        "id": "PSx9atu2YklI"
      }
    },
    {
      "cell_type": "markdown",
      "source": [
        "#### Chart - 3"
      ],
      "metadata": {
        "id": "EM7whBJCYoAo"
      }
    },
    {
      "cell_type": "markdown",
      "source": [
        "**3 - Which 'APPS' are more**"
      ],
      "metadata": {
        "id": "jGdi39_XaWq7"
      }
    },
    {
      "cell_type": "code",
      "source": [
        "# Chart - 3 visualization code"
      ],
      "metadata": {
        "id": "t6GMdE67YoAp"
      },
      "execution_count": null,
      "outputs": []
    },
    {
      "cell_type": "code",
      "source": [
        "plt.figure(figsize= (10,8))\n",
        "sns.countplot(x='Type',data=merged_df)\n",
        "plt.xticks(rotation=70)"
      ],
      "metadata": {
        "id": "rzaK03dbFM2X"
      },
      "execution_count": null,
      "outputs": []
    },
    {
      "cell_type": "markdown",
      "source": [
        "obsrvation - we have the largest numbers of apps in the free category"
      ],
      "metadata": {
        "id": "-scOSKVkahJa"
      }
    },
    {
      "cell_type": "markdown",
      "source": [
        "##### 1. Why did you pick the specific chart?"
      ],
      "metadata": {
        "id": "fge-S5ZAYoAp"
      }
    },
    {
      "cell_type": "markdown",
      "source": [
        "Because the graphical representation gives us an easy idea of which category (paid or free)  has the highest from among all the app categories "
      ],
      "metadata": {
        "id": "5dBItgRVYoAp"
      }
    },
    {
      "cell_type": "markdown",
      "source": [
        "##### 2. What is/are the insight(s) found from the chart?"
      ],
      "metadata": {
        "id": "85gYPyotYoAp"
      }
    },
    {
      "cell_type": "markdown",
      "source": [
        "we have the largest numbers of apps in the free category"
      ],
      "metadata": {
        "id": "4jstXR6OYoAp"
      }
    },
    {
      "cell_type": "markdown",
      "source": [
        "##### 3. Will the gained insights help creating a positive business impact? \n",
        "Are there any insights that lead to negative growth? Justify with specific reason."
      ],
      "metadata": {
        "id": "RoGjAbkUYoAp"
      }
    },
    {
      "cell_type": "markdown",
      "source": [
        "The insights gained from this chart could potentially help create a positive business impact. App developers could use this information to make informed decisions about whether to make their app free or paid.\n",
        "so developers may choose to make their app free in order to reach a wider audience and potentially generate revenue through ads or in-app purchases.\n",
        "\n",
        "One potential negative impact of these insights could be if developers assume that paid apps will always be of higher quality, and neglect to put in the necessary effort and resources to develop a high-quality app regardless of its pricing model. This could lead to a proliferation of low-quality paid apps, which could lead to negative reviews and reduced sales"
      ],
      "metadata": {
        "id": "zfJ8IqMcYoAp"
      }
    },
    {
      "cell_type": "markdown",
      "source": [
        "#### Chart - 4"
      ],
      "metadata": {
        "id": "4Of9eVA-YrdM"
      }
    },
    {
      "cell_type": "markdown",
      "source": [
        "### 4 -Top 10 most popular apps based on rating and number of installs\n",
        "### 5 - what are the most popular apps "
      ],
      "metadata": {
        "id": "vc81DKbdamhK"
      }
    },
    {
      "cell_type": "code",
      "source": [
        "# Chart - 4 visualization code"
      ],
      "metadata": {
        "id": "irlUoxc8YrdO"
      },
      "execution_count": null,
      "outputs": []
    },
    {
      "cell_type": "code",
      "source": [
        "df_add = merged_df[['Rating','Installs','App']]"
      ],
      "metadata": {
        "id": "eGFnQC8lal9D"
      },
      "execution_count": null,
      "outputs": []
    },
    {
      "cell_type": "code",
      "source": [
        "df_add.head()"
      ],
      "metadata": {
        "id": "9ilX7V-Mauhz"
      },
      "execution_count": null,
      "outputs": []
    },
    {
      "cell_type": "code",
      "source": [
        "df_rat = df_add.sort_values(['Rating'],\n",
        "                            ascending= [False])"
      ],
      "metadata": {
        "id": "jHwEFdtqauey"
      },
      "execution_count": null,
      "outputs": []
    },
    {
      "cell_type": "code",
      "source": [
        "df_in = df_add.sort_values(['Installs'],\n",
        "                            ascending= [False])"
      ],
      "metadata": {
        "id": "tFpzRTMlauZK"
      },
      "execution_count": null,
      "outputs": []
    },
    {
      "cell_type": "code",
      "source": [
        "df_add = pd.merge(df_rat,df_in, on='App', how = 'inner')"
      ],
      "metadata": {
        "id": "Fbcma39yauWS"
      },
      "execution_count": null,
      "outputs": []
    },
    {
      "cell_type": "code",
      "source": [
        "df_add = df_add.drop_duplicates(subset = 'App')"
      ],
      "metadata": {
        "id": "a1Yq079sa9MR"
      },
      "execution_count": null,
      "outputs": []
    },
    {
      "cell_type": "code",
      "source": [
        "df_add.head(10)"
      ],
      "metadata": {
        "id": "z7bCwysda_nH"
      },
      "execution_count": null,
      "outputs": []
    },
    {
      "cell_type": "code",
      "source": [
        "df_add.info()"
      ],
      "metadata": {
        "id": "IuFRmLd5bAan"
      },
      "execution_count": null,
      "outputs": []
    },
    {
      "cell_type": "code",
      "source": [
        "df_add = df_add[['App','Rating_x','Installs_x']]"
      ],
      "metadata": {
        "id": "OQxdZjo5bKN8"
      },
      "execution_count": null,
      "outputs": []
    },
    {
      "cell_type": "code",
      "source": [
        "from matplotlib import pyplot"
      ],
      "metadata": {
        "id": "VP-1npBtbKK3"
      },
      "execution_count": null,
      "outputs": []
    },
    {
      "cell_type": "markdown",
      "source": [
        "For Ratting "
      ],
      "metadata": {
        "id": "dTGIfGs5B-cm"
      }
    },
    {
      "cell_type": "code",
      "source": [
        "fig = plt.figure(figsize=(20, 10));\n",
        "sns.barplot(data = df_add, x = df_add['App'][:10],y= df_add['Rating_x'][:10]);\n",
        "plt.xticks(rotation=80)"
      ],
      "metadata": {
        "id": "VwVlM12YbKGA"
      },
      "execution_count": null,
      "outputs": []
    },
    {
      "cell_type": "markdown",
      "source": [
        "For Installs"
      ],
      "metadata": {
        "id": "HOG_KQjqCCT4"
      }
    },
    {
      "cell_type": "code",
      "source": [
        "fig = plt.figure(figsize=(20, 10));\n",
        "sns.barplot(data = df_add, x = df_add['App'][:10],y= df_add['Installs_x'][:10]);\n",
        "plt.ylim(0,7000000)\n",
        "plt.xticks(rotation=80)"
      ],
      "metadata": {
        "id": "gIxIgvKabKDX"
      },
      "execution_count": null,
      "outputs": []
    },
    {
      "cell_type": "markdown",
      "source": [
        "##### 1. Why did you pick the specific chart?"
      ],
      "metadata": {
        "id": "iky9q4vBYrdO"
      }
    },
    {
      "cell_type": "markdown",
      "source": [
        "Because the graphical representation gives us an easy idea of which category   has the highest number of installs and most popularapps  from among all the app categories "
      ],
      "metadata": {
        "id": "aJRCwT6DYrdO"
      }
    },
    {
      "cell_type": "markdown",
      "source": [
        "##### 2. What is/are the insight(s) found from the chart?"
      ],
      "metadata": {
        "id": "F6T5p64dYrdO"
      }
    },
    {
      "cell_type": "markdown",
      "source": [
        " * Most popular apps based on rating - 'Down Dog: Great Yoga Anywhere'\n",
        " * Most popular apps based on number of installs - '30 Day Fitness Challenge - Workout at Home'"
      ],
      "metadata": {
        "id": "Xx8WAJvtYrdO"
      }
    },
    {
      "cell_type": "markdown",
      "source": [
        "##### 3. Will the gained insights help creating a positive business impact? \n",
        "Are there any insights that lead to negative growth? Justify with specific reason."
      ],
      "metadata": {
        "id": "y-Ehk30pYrdP"
      }
    },
    {
      "cell_type": "markdown",
      "source": [
        "I gained Insights from both the graphs show in both the graphs that the top apps are in the work out category, so the developer will focus on the work out categories \n",
        "\n",
        "There are no insights that lead to negative growth from this chart.\n"
      ],
      "metadata": {
        "id": "jLNxxz7MYrdP"
      }
    },
    {
      "cell_type": "markdown",
      "source": [
        "#### Chart - 5"
      ],
      "metadata": {
        "id": "bamQiAODYuh1"
      }
    },
    {
      "cell_type": "markdown",
      "source": [
        "**6 - Content rating** "
      ],
      "metadata": {
        "id": "q7Y65pmtbgPS"
      }
    },
    {
      "cell_type": "code",
      "source": [
        "# Chart - 5 visualization code"
      ],
      "metadata": {
        "id": "TIJwrbroYuh3"
      },
      "execution_count": null,
      "outputs": []
    },
    {
      "cell_type": "code",
      "source": [
        "plt.figure(figsize=(10,7))\n",
        "sns.countplot(data=merged_df, x='Content Rating')\n",
        "plt.xticks(rotation=80)\n",
        "plt.title('Content Rating',color = 'blue',fontsize=15)\n",
        "plt.show()"
      ],
      "metadata": {
        "id": "sWOXNStZbfAS"
      },
      "execution_count": null,
      "outputs": []
    },
    {
      "cell_type": "markdown",
      "source": [
        "##### 1. Why did you pick the specific chart?"
      ],
      "metadata": {
        "id": "QHF8YVU7Yuh3"
      }
    },
    {
      "cell_type": "markdown",
      "source": [
        "Bar plot Because the graphical representation gives us an easy idea of which category   has the highest content rating from among all the app categories "
      ],
      "metadata": {
        "id": "dcxuIMRPYuh3"
      }
    },
    {
      "cell_type": "markdown",
      "source": [
        "##### 2. What is/are the insight(s) found from the chart?"
      ],
      "metadata": {
        "id": "GwzvFGzlYuh3"
      }
    },
    {
      "cell_type": "markdown",
      "source": [
        "From the bar plot that shows the count of apps by content rating, we can see that the \"Everyone\" content rating has the highest count, followed by the \"Teen\" and \"Mature 17+\" content ratings. This indicates that the majority of apps in the Google Play Store are suitable for all audiences, which may reflect the overall trend of increasing adoption and usage of mobile devices across different age groups."
      ],
      "metadata": {
        "id": "uyqkiB8YYuh3"
      }
    },
    {
      "cell_type": "markdown",
      "source": [
        "##### 3. Will the gained insights help creating a positive business impact? \n",
        "Are there any insights that lead to negative growth? Justify with specific reason."
      ],
      "metadata": {
        "id": "qYpmQ266Yuh3"
      }
    },
    {
      "cell_type": "markdown",
      "source": [
        "The gained insight that \"Everyone\" content rating has the highest count in the Google Play Store can potentially help create a positive business impact for app developers and marketers\n",
        "Developer should focus on developing apps of everyone categorie\n",
        "\n",
        "There are no insights that lead to negative growth from this chart."
      ],
      "metadata": {
        "id": "_WtzZ_hCYuh4"
      }
    },
    {
      "cell_type": "markdown",
      "source": [
        "#### Chart - 6"
      ],
      "metadata": {
        "id": "OH-pJp9IphqM"
      }
    },
    {
      "cell_type": "markdown",
      "source": [
        "**6- Which category has the higher in size apps**"
      ],
      "metadata": {
        "id": "gpCAFgiCbzbZ"
      }
    },
    {
      "cell_type": "code",
      "source": [
        "# Chart - 6 visualization code"
      ],
      "metadata": {
        "id": "kuRf4wtuphqN"
      },
      "execution_count": null,
      "outputs": []
    },
    {
      "cell_type": "code",
      "source": [
        "X = merged_df.groupby(\"Category\")[\"App\"].count().sort_values(ascending=False).reset_index().head(10)\n",
        "X"
      ],
      "metadata": {
        "id": "4wHd33Hhb2h5"
      },
      "execution_count": null,
      "outputs": []
    },
    {
      "cell_type": "code",
      "source": [
        "bulky_apps = merged_df[merged_df[\"Size\"]>40]\n",
        "group_category = bulky_apps.groupby(\"Category\")[\"Size\"].count().sort_values(ascending=False).reset_index().head()\n",
        "\n",
        "plt.figure(figsize=(8, 6))\n",
        "# sns.set(font_scale=1)\n",
        "sns.set_style(\"darkgrid\")\n",
        "ax = sns.barplot(x=\"Category\", y=\"Size\", data=group_category, palette = \"Set2\")\n",
        "ax.set_xticklabels(ax.get_xticklabels(), rotation=90, ha=\"right\")\n",
        "plt.title('Count of Bulky Apps per Category',size = 14)"
      ],
      "metadata": {
        "id": "0MwUoVl7b-Ey"
      },
      "execution_count": null,
      "outputs": []
    },
    {
      "cell_type": "markdown",
      "source": [
        "##### 1. Why did you pick the specific chart?"
      ],
      "metadata": {
        "id": "bbFf2-_FphqN"
      }
    },
    {
      "cell_type": "markdown",
      "source": [
        "Because the graphical representation gives us an easy idea of which category   has the highest size of apps from among all the app categories "
      ],
      "metadata": {
        "id": "loh7H2nzphqN"
      }
    },
    {
      "cell_type": "markdown",
      "source": [
        "##### 2. What is/are the insight(s) found from the chart?"
      ],
      "metadata": {
        "id": "_ouA3fa0phqN"
      }
    },
    {
      "cell_type": "markdown",
      "source": [
        "The graph shows us that the gaming category has higher size and smaller apps in medical category"
      ],
      "metadata": {
        "id": "VECbqPI7phqN"
      }
    },
    {
      "cell_type": "markdown",
      "source": [
        "#### Chart - 7"
      ],
      "metadata": {
        "id": "PIIx-8_IphqN"
      }
    },
    {
      "cell_type": "markdown",
      "source": [
        "**7 - Sentiment percentage analyse**\n"
      ],
      "metadata": {
        "id": "YbFSXTTecMCr"
      }
    },
    {
      "cell_type": "code",
      "source": [
        "# Chart - 7 visualization code\n"
      ],
      "metadata": {
        "id": "lqAIGUfyphqO"
      },
      "execution_count": null,
      "outputs": []
    },
    {
      "cell_type": "code",
      "source": [
        "merged_df['Sentiment'].value_counts()"
      ],
      "metadata": {
        "id": "xH2cg0NbcNgi"
      },
      "execution_count": null,
      "outputs": []
    },
    {
      "cell_type": "code",
      "source": [
        "merged_df['Sentiment'].value_counts().plot(kind='pie', explode= (0.1,0.1,0.1), shadow=True, autopct='%.2f%%', pctdistance=1.1, labeldistance=1.2)"
      ],
      "metadata": {
        "id": "TMPvTA6hdRva"
      },
      "execution_count": null,
      "outputs": []
    },
    {
      "cell_type": "markdown",
      "source": [
        "##### 1. Why did you pick the specific chart?"
      ],
      "metadata": {
        "id": "t27r6nlMphqO"
      }
    },
    {
      "cell_type": "markdown",
      "source": [
        "Pie charts are used to represent the proportional data or relative data in a single chart.  The concept of pie slices is used to show the percentage of a particular data from the whole pie.Thus, I used to show the percentage of sentimen values ( Positive , Negative , Neutral )through pie chart with differentr colored area under a circle."
      ],
      "metadata": {
        "id": "iv6ro40sphqO"
      }
    },
    {
      "cell_type": "markdown",
      "source": [
        "##### 2. What is/are the insight(s) found from the chart?"
      ],
      "metadata": {
        "id": "r2jJGEOYphqO"
      }
    },
    {
      "cell_type": "markdown",
      "source": [
        "Majority of the app reviews have positive polarity, followed by negative and neutral polarity. There is a significant difference in the number of positive polarity reviews compared to the number of negative and neutral polarity reviews. The number of neutral polarity reviews is the lowest among the three, indicating that the majority of users have a positive sentiment towards the apps in the dataset."
      ],
      "metadata": {
        "id": "Po6ZPi4hphqO"
      }
    },
    {
      "cell_type": "markdown",
      "source": [
        "### 3. Will the gained insights help creating a positive business impact?\n",
        "### Are there any insights that lead to negative growth? Justify with specific reason."
      ],
      "metadata": {
        "id": "4-g-pHxwXdu4"
      }
    },
    {
      "cell_type": "markdown",
      "source": [
        "The insights gained from the countplot on the sentiments of people towards apps can help in creating a positive business impact. By understanding the distribution of sentiments, app developers and businesses can tailor their marketing and development strategies to better meet the needs and expectations of their target audience.\n",
        "\n",
        "There are no insights that lead to negative growth from this chart."
      ],
      "metadata": {
        "id": "-T5Qg7cVXlhh"
      }
    },
    {
      "cell_type": "markdown",
      "source": [
        "#### Chart - 8"
      ],
      "metadata": {
        "id": "BZR9WyysphqO"
      }
    },
    {
      "cell_type": "markdown",
      "source": [
        " **8 - Pricing Distribution of Paid Apps**"
      ],
      "metadata": {
        "id": "Aeg1JJhecXoK"
      }
    },
    {
      "cell_type": "code",
      "source": [
        "# Chart - 8 visualization code"
      ],
      "metadata": {
        "id": "TdPTWpAVphqO"
      },
      "execution_count": null,
      "outputs": []
    },
    {
      "cell_type": "code",
      "source": [
        "plt.figure(figsize=(10,7))\n",
        "sns.kdeplot(merged_df[merged_df['Type'] == 'Paid']['Price'], color = 'red', shade = True)\n",
        "plt.xlabel('Prices of Apps')\n",
        "plt.title('Pricing Distribution of Paid Apps')\n",
        "plt.show()"
      ],
      "metadata": {
        "id": "5yg8OjUqcYoa"
      },
      "execution_count": null,
      "outputs": []
    },
    {
      "cell_type": "markdown",
      "source": [
        "We Can see That most of the paid apps are cheap"
      ],
      "metadata": {
        "id": "htVY6Jr-cngk"
      }
    },
    {
      "cell_type": "markdown",
      "source": [
        "##### 1. Why did you pick the specific chart?"
      ],
      "metadata": {
        "id": "jj7wYXLtphqO"
      }
    },
    {
      "cell_type": "markdown",
      "source": [
        "Because the graphical representation gives us an easy idea of which pricing aaps has the highest or lowest  from among all the app categories "
      ],
      "metadata": {
        "id": "Ob8u6rCTphqO"
      }
    },
    {
      "cell_type": "markdown",
      "source": [
        "##### 2. What is/are the insight(s) found from the chart?"
      ],
      "metadata": {
        "id": "eZrbJ2SmphqO"
      }
    },
    {
      "cell_type": "markdown",
      "source": [
        "We Can see That most of the paid apps are cheap"
      ],
      "metadata": {
        "id": "mZtgC_hjphqO"
      }
    },
    {
      "cell_type": "markdown",
      "source": [
        "#### Chart - 9"
      ],
      "metadata": {
        "id": "YJ55k-q6phqO"
      }
    },
    {
      "cell_type": "markdown",
      "source": [
        "**9- RATING VS PRICING**"
      ],
      "metadata": {
        "id": "DNBSlnZOcj6S"
      }
    },
    {
      "cell_type": "code",
      "source": [
        "# Chart - 4 visualization code\n",
        "# Relationship between App Price And Installs\n",
        "\n",
        "plt.figure(figsize=(10,6))\n",
        "\n",
        "plt.scatter(merged_df['Price'], merged_df['Installs'], alpha=0.5)\n",
        "plt.title('App Price vs. Installs')\n",
        "plt.xlabel('Price')\n",
        "plt.ylabel('Installs')\n",
        "plt.show()"
      ],
      "metadata": {
        "id": "vaoKckA4bjwz"
      },
      "execution_count": null,
      "outputs": []
    },
    {
      "cell_type": "code",
      "source": [
        "# Chart - 9 visualization code"
      ],
      "metadata": {
        "id": "B2aS4O1ophqO"
      },
      "execution_count": null,
      "outputs": []
    },
    {
      "cell_type": "code",
      "source": [
        "a = merged_df[merged_df['Type'] == 'Paid']\n",
        "sns.jointplot(y = a['Rating'], x = a['Price'], color= 'teal')"
      ],
      "metadata": {
        "id": "WM9FdqU0csGS"
      },
      "execution_count": null,
      "outputs": []
    },
    {
      "cell_type": "markdown",
      "source": [
        "we can see that highly expensive apps are not necessarily well rated"
      ],
      "metadata": {
        "id": "Rd2dhBEYcySq"
      }
    },
    {
      "cell_type": "code",
      "source": [
        "from pylab import rcParams"
      ],
      "metadata": {
        "id": "7EeTGslocw8S"
      },
      "execution_count": null,
      "outputs": []
    },
    {
      "cell_type": "code",
      "source": [
        "temp = merged_df['Type'].value_counts().reset_index()\n",
        "rcParams['figure.figsize'] = 9,9\n",
        "plt.pie(x = temp['Type'], labels= temp['index'], autopct= '%1.1f%%', colors = ['lightblue','lightpink'], \n",
        "        shadow= True,startangle=90,explode=(0.25,0))\n",
        "plt.show()"
      ],
      "metadata": {
        "id": "UGICNhNZc5si"
      },
      "execution_count": null,
      "outputs": []
    },
    {
      "cell_type": "markdown",
      "source": [
        "##### 2. What is/are the insight(s) found from the chart?"
      ],
      "metadata": {
        "id": "a9EJHS9KaXZq"
      }
    },
    {
      "cell_type": "markdown",
      "source": [
        "About 98.8% apps are free and 1.2% apps are of paid type."
      ],
      "metadata": {
        "id": "lwAroEvUaYXr"
      }
    },
    {
      "cell_type": "markdown",
      "source": [
        "# Chart - 10"
      ],
      "metadata": {
        "id": "9287kF1OfFCp"
      }
    },
    {
      "cell_type": "markdown",
      "source": [
        "**10- Correlation Heatmap**"
      ],
      "metadata": {
        "id": "amCTe9cai93D"
      }
    },
    {
      "cell_type": "code",
      "source": [
        "# Correlation Heatmap visualization code\n",
        "# Finding correlation between different columns in the play store data\n",
        "merged_df.corr()\n",
        "     "
      ],
      "metadata": {
        "id": "yYDYzLFIejjw"
      },
      "execution_count": null,
      "outputs": []
    },
    {
      "cell_type": "code",
      "source": [
        "# Heat map for play_store\n",
        "plt.figure(figsize = (20,10))\n",
        "sns.heatmap(merged_df.corr(), annot= True , cmap='coolwarm')\n",
        "plt.title('Corelation Heatmap for Playstore Data', size=10)"
      ],
      "metadata": {
        "id": "Kkg8OWJGe4M5"
      },
      "execution_count": null,
      "outputs": []
    },
    {
      "cell_type": "markdown",
      "source": [
        "##### 1. Why did you pick the specific chart?"
      ],
      "metadata": {
        "id": "fR7Q35xWfOzZ"
      }
    },
    {
      "cell_type": "markdown",
      "source": [
        "A correlation heatmap is a good chart choice to visualize the relationships between multiple variables in a dataset. It shows the correlation coefficients between each pair of variables as a color-coded matrix, where the intensity of the color represents the strength of the correlation. By using a correlation heatmap, we can easily identify the variables that have a strong positive or negative correlation with each other, which can help in feature selection and modeling. Therefore, it is a good choice for exploring the relationships between different variables in the Playstore dataset."
      ],
      "metadata": {
        "id": "GHAl-L9TfVmU"
      }
    },
    {
      "cell_type": "markdown",
      "source": [
        "##### 2. What is/are the insight(s) found from the chart?"
      ],
      "metadata": {
        "id": "Hbu9nmj4fZ0S"
      }
    },
    {
      "cell_type": "markdown",
      "source": [
        "The correlation heatmap is used to visualize the correlation between all the numerical variables in the dataset. From the heatmap, we can see that there is a strong positive correlation between the number of installs and the number of reviews, indicating that more popular apps tend to have more reviews.\n",
        "\n",
        "Additionally, we can see that there is a weak negative correlation between the app size and the number of installs, which may indicate that users prefer smaller apps that take up less space on their devices.\n",
        "\n",
        "There is also a weak negative correlation between the app price and the number of installs, which suggests that users are less likely to download apps that are priced higher.\n",
        "\n",
        "Overall, the heatmap provides a useful visual summary of the relationships between the variables in the dataset and can help guide further analysis and decision-making."
      ],
      "metadata": {
        "id": "ea7RNgwufdbz"
      }
    },
    {
      "cell_type": "markdown",
      "source": [
        "## **5. Solution to Business Objective**"
      ],
      "metadata": {
        "id": "JcMwzZxoAimU"
      }
    },
    {
      "cell_type": "markdown",
      "source": [
        "#### What do you suggest the client to achieve Business Objective ? \n",
        "Explain Briefly."
      ],
      "metadata": {
        "id": "8G2x9gOozGDZ"
      }
    },
    {
      "cell_type": "markdown",
      "source": [
        "* Focus on building apps in the most popular categories, such as Gaming , Fitnesd ,Dating ,Family, and Travel These categories have the highest number of app installs and can potentially generate more revenue.\n",
        "\n",
        "* Consider offering in-app purchases as a monetization strategy since it shows a positive correlation with app ratings and can generate higher revenue than paid apps.\n",
        "\n",
        "* Optimize app size to provide a better user experience and potentially\n",
        "increase app installs. Apps with smaller sizes tend to have higher ratings and installs.\n",
        "\n",
        "* Encourage users to leave reviews and ratings, as higher ratings and reviews can lead to more app installs and a higher ranking on the Play Store.\n",
        "\n",
        "* Continuously update and improve the app to maintain user engagement and satisfaction, which can lead to higher app installs and more revenue.\n",
        "\n",
        "By implementing these suggestions, the client can increase their app installs, improve user satisfaction, and generate more revenue, ultimately achieving their business objectives on the Play Store."
      ],
      "metadata": {
        "id": "pASKb0qOza21"
      }
    },
    {
      "cell_type": "markdown",
      "source": [
        "# **Conclusion**"
      ],
      "metadata": {
        "id": "gCX9965dhzqZ"
      }
    },
    {
      "cell_type": "markdown",
      "source": [
        "#Conclusion\n",
        "After analyzing the dataset we have come up with some serious & interesting facts that any android users would love to know.\n",
        "Top Categories on Google Play store.\n",
        "* The most popular app categories in terms of number of installations are Fitness and  Gaming \n",
        "* Most of the apps are Free, so focusing on free app is more important.\n",
        "* There is a weak correlation between app size and number of installs.\n",
        "* The average rating of apps is high, around 4.4 out of 5\n",
        "* The majority of the apps are aimed at everyone, followed by teenagers and mature audiences\n",
        "\n",
        "Overall, the insights gained from the analysis can help the client make informed decisions when developing and launching new apps on the Play Store. They can use the insights to identify the most popular categories and user demographics and optimize their app's pricing, size, and rating to attract more users and maximize their installs and revenue.\n",
        "\n",
        "\n",
        "\n",
        "\n"
      ],
      "metadata": {
        "id": "Fjb1IsQkh3yE"
      }
    }
  ]
}